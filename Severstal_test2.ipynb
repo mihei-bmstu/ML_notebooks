{
  "nbformat": 4,
  "nbformat_minor": 0,
  "metadata": {
    "colab": {
      "name": "Severstal_test2.ipynb",
      "provenance": [],
      "collapsed_sections": []
    },
    "kernelspec": {
      "name": "python3",
      "display_name": "Python 3"
    },
    "language_info": {
      "name": "python"
    },
    "accelerator": "GPU"
  },
  "cells": [
    {
      "cell_type": "markdown",
      "metadata": {
        "id": "WKa3B_bOh7wN"
      },
      "source": [
        "Импорт необходимых модулей. Для построения модели будем использовать XGB Regressor, как хорошо зарекомендовавший себя ансамбль методов."
      ]
    },
    {
      "cell_type": "code",
      "metadata": {
        "id": "OT8XacuUJJqi"
      },
      "source": [
        "import pandas as pd\n",
        "import numpy as np\n",
        "from xgboost import XGBRegressor\n",
        "from sklearn.model_selection import KFold\n",
        "from sklearn.metrics import mean_absolute_error"
      ],
      "execution_count": null,
      "outputs": []
    },
    {
      "cell_type": "markdown",
      "metadata": {
        "id": "pDRFmo-DiCii"
      },
      "source": [
        "Подгружаем данные с результатами измерений, с тренировочным данными о качестве и с данными для прогноза."
      ]
    },
    {
      "cell_type": "code",
      "metadata": {
        "id": "esuMwN3lJswI"
      },
      "source": [
        "data = pd.read_csv('/content/drive/MyDrive/Severstal_test/X_data.csv', sep=',', delimiter=';', parse_dates=True)\n",
        "data = data.rename(columns={'Unnamed: 0':'Date'})\n",
        "y_data = pd.read_csv('/content/drive/MyDrive/Severstal_test/Y_train.csv', header=None, sep=',', delimiter=';')\n",
        "y_data = y_data.rename(columns={0: 'Date', 1: 'Target'})\n",
        "y_test = pd.read_csv('/content/drive/MyDrive/Severstal_test/Y_submit.csv', header=None, sep=',', delimiter=';')\n",
        "y_test = y_test.rename(columns={0: 'Date', 1: 'Target'})"
      ],
      "execution_count": null,
      "outputs": []
    },
    {
      "cell_type": "markdown",
      "metadata": {
        "id": "ml2AAptUij9v"
      },
      "source": [
        "Данные о качестве продукции даны с интервалом в 1 час. Также в задании сказано, что сырье проводит в обжиговой заготовке 1 час. Поэтому будет корректнее строить модель прогнозирования на основе данных, осредненных за 1 час. В следующих ячейках производится осреднение этих данных, а также получение тренировочного датасета. "
      ]
    },
    {
      "cell_type": "code",
      "metadata": {
        "id": "A2PVE5huNJ0L"
      },
      "source": [
        "data_mean = data.copy()\n",
        "data_mean.iloc[:, 1:] = data.iloc[:, 1:].rolling(60).mean()"
      ],
      "execution_count": null,
      "outputs": []
    },
    {
      "cell_type": "code",
      "metadata": {
        "id": "UslFXPimNJpE"
      },
      "source": [
        "train = pd.merge(left=data_mean, right=y_data, how=\"inner\", on='Date',)\n"
      ],
      "execution_count": null,
      "outputs": []
    },
    {
      "cell_type": "code",
      "metadata": {
        "id": "AzGOOlfOohn9",
        "colab": {
          "base_uri": "https://localhost:8080/"
        },
        "outputId": "5c5f5c3b-5f21-4ff1-b236-0133ff2cea4b"
      },
      "source": [
        "X = train.drop(['Date', 'Target'], axis=1)\n",
        "y = train.Target\n",
        "X.info()"
      ],
      "execution_count": null,
      "outputs": [
        {
          "output_type": "stream",
          "name": "stdout",
          "text": [
            "<class 'pandas.core.frame.DataFrame'>\n",
            "Int64Index: 29184 entries, 0 to 29183\n",
            "Data columns (total 17 columns):\n",
            " #   Column      Non-Null Count  Dtype  \n",
            "---  ------      --------------  -----  \n",
            " 0   T_data_1_1  29184 non-null  float64\n",
            " 1   T_data_1_2  29184 non-null  float64\n",
            " 2   T_data_1_3  29184 non-null  float64\n",
            " 3   T_data_2_1  29184 non-null  float64\n",
            " 4   T_data_2_2  29184 non-null  float64\n",
            " 5   T_data_2_3  29184 non-null  float64\n",
            " 6   T_data_3_1  29184 non-null  float64\n",
            " 7   T_data_3_2  29184 non-null  float64\n",
            " 8   T_data_3_3  29184 non-null  float64\n",
            " 9   T_data_4_1  29184 non-null  float64\n",
            " 10  T_data_4_2  29184 non-null  float64\n",
            " 11  T_data_4_3  29184 non-null  float64\n",
            " 12  T_data_5_1  29184 non-null  float64\n",
            " 13  T_data_5_2  29184 non-null  float64\n",
            " 14  T_data_5_3  29184 non-null  float64\n",
            " 15  H_data      29184 non-null  float64\n",
            " 16  AH_data     29184 non-null  float64\n",
            "dtypes: float64(17)\n",
            "memory usage: 4.0 MB\n"
          ]
        }
      ]
    },
    {
      "cell_type": "markdown",
      "metadata": {
        "id": "67F55ZQhkZC4"
      },
      "source": [
        "Мы видим, что в тренировочном датасете ровно столько же записей, как и в файле с данными об измеренном качестве. Тренировочный сет занимает всего 4 МБ памяти, так что нет смысла проводить оптимизацию форматов хранения и можно работать с типом float64.\n",
        "Также надо выделить данные для тех моментов времени, для которых необходимо предсказать качество продукции:"
      ]
    },
    {
      "cell_type": "code",
      "metadata": {
        "id": "_42u-3nAcqSv"
      },
      "source": [
        "test = pd.merge(left=data_mean, right=y_test, how=\"inner\", on='Date')\n",
        "X_test = test.drop(['Date', 'Target'], axis=1)"
      ],
      "execution_count": null,
      "outputs": []
    },
    {
      "cell_type": "markdown",
      "metadata": {
        "id": "Tk3trebdlaHc"
      },
      "source": [
        "Создадим словарь с параметрами модели. По договоренности с заказчиком будем использовать метод оценки точности предсказания MAE. Среда Google Colaboratory позволяет использовать для работы GPU, укажем это в параметрах."
      ]
    },
    {
      "cell_type": "code",
      "metadata": {
        "id": "H_WQZkjYt4kQ"
      },
      "source": [
        "xgb_params = {\n",
        "    'objective': 'reg:squarederror',\n",
        "    'eval_metric': 'mae',\n",
        "    'learning_rate': 1e-2,\n",
        "    'seed': 42,\n",
        "    'subsample': 0.6,\n",
        "    'colsample_bytree': 0.6,\n",
        "    'n_estimators': 10000,\n",
        "    'max_depth': 8,\n",
        "    'alpha': 10,\n",
        "    'lambda': 1e-1,\n",
        "    'min_child_weight': 100,\n",
        "    'tree_method': 'gpu_hist',\n",
        "    'predictor': 'gpu_predictor',\n",
        "}"
      ],
      "execution_count": null,
      "outputs": []
    },
    {
      "cell_type": "markdown",
      "metadata": {
        "id": "vesyaFuomhYJ"
      },
      "source": [
        "Для повышения точности предсказания будем использовать метод кросс-валидации с разбивкой на 5 частей. После обучения и валидации модели на каждой разбивке используем ее для предсказания целевых значений. В итоге, на выходе у нас будет 5 предсказанных значений для каждой интересующей нас точки, и в качестве итогового ответа будем использовать среднее значение пяти полученных ответов. "
      ]
    },
    {
      "cell_type": "code",
      "metadata": {
        "id": "Qvqzh0F1t4h9"
      },
      "source": [
        "kf = KFold(n_splits=5, shuffle=True, random_state=42)"
      ],
      "execution_count": null,
      "outputs": []
    },
    {
      "cell_type": "code",
      "metadata": {
        "colab": {
          "base_uri": "https://localhost:8080/"
        },
        "id": "fgspEYJJt4ev",
        "outputId": "f116fe18-eef2-443f-fd54-e2ae50ddc736"
      },
      "source": [
        "preds = []\n",
        "scores = []\n",
        "\n",
        "for fold, (idx_train, idx_valid) in enumerate(kf.split(X, y)):\n",
        "  X_train, y_train = X.iloc[idx_train], y.iloc[idx_train]\n",
        "  X_valid, y_valid = X.iloc[idx_valid], y.iloc[idx_valid]\n",
        "\n",
        "  model = XGBRegressor(**xgb_params)\n",
        "  model.fit(X_train, y_train,\n",
        "            eval_set=[(X_valid,y_valid)],\n",
        "            early_stopping_rounds=100,\n",
        "            verbose=10000)\n",
        "  \n",
        "  pred_valid = model.predict(X_valid)\n",
        "  mae = mean_absolute_error(y_valid, pred_valid)\n",
        "  scores.append(mae)\n",
        "  print(f\"Fold: {fold + 1} Score: {mae}\")\n",
        "  print('||'*20)\n",
        "\n",
        "  test_preds = model.predict(X_test)\n",
        "  preds.append(test_preds)\n",
        "\n",
        "print(f\"Overall MAE: {np.mean(scores)}\")\n",
        "\n",
        "predictions = np.mean(np.column_stack(preds), axis=1)\n",
        "y_test['Target'] = predictions"
      ],
      "execution_count": null,
      "outputs": [
        {
          "output_type": "stream",
          "name": "stdout",
          "text": [
            "[0]\tvalidation_0-mae:398.105\n",
            "Will train until validation_0-mae hasn't improved in 100 rounds.\n",
            "Stopping. Best iteration:\n",
            "[7029]\tvalidation_0-mae:7.87196\n",
            "\n",
            "Fold: 1 Score: 7.871958555006217\n",
            "||||||||||||||||||||||||||||||||||||||||\n",
            "[0]\tvalidation_0-mae:397.926\n",
            "Will train until validation_0-mae hasn't improved in 100 rounds.\n",
            "Stopping. Best iteration:\n",
            "[9028]\tvalidation_0-mae:7.60977\n",
            "\n",
            "Fold: 2 Score: 7.6097721546219494\n",
            "||||||||||||||||||||||||||||||||||||||||\n",
            "[0]\tvalidation_0-mae:398.498\n",
            "Will train until validation_0-mae hasn't improved in 100 rounds.\n",
            "Stopping. Best iteration:\n",
            "[8144]\tvalidation_0-mae:7.71263\n",
            "\n",
            "Fold: 3 Score: 7.712629717221831\n",
            "||||||||||||||||||||||||||||||||||||||||\n",
            "[0]\tvalidation_0-mae:398.522\n",
            "Will train until validation_0-mae hasn't improved in 100 rounds.\n",
            "Stopping. Best iteration:\n",
            "[7001]\tvalidation_0-mae:7.59783\n",
            "\n",
            "Fold: 4 Score: 7.597833531144263\n",
            "||||||||||||||||||||||||||||||||||||||||\n",
            "[0]\tvalidation_0-mae:398.36\n",
            "Will train until validation_0-mae hasn't improved in 100 rounds.\n",
            "Stopping. Best iteration:\n",
            "[6637]\tvalidation_0-mae:7.70082\n",
            "\n",
            "Fold: 5 Score: 7.7008224393179185\n",
            "||||||||||||||||||||||||||||||||||||||||\n",
            "Overall MAE: 7.698603279462437\n"
          ]
        }
      ]
    },
    {
      "cell_type": "markdown",
      "metadata": {
        "id": "9GVpmkMI58dT"
      },
      "source": [
        "Сохраняем полученные предсказания в csv файл:"
      ]
    },
    {
      "cell_type": "code",
      "metadata": {
        "id": "LRw1TB0Bt4Zh"
      },
      "source": [
        "y_test.to_csv('./submission_test2.csv', index=False, header=False)"
      ],
      "execution_count": null,
      "outputs": []
    },
    {
      "cell_type": "markdown",
      "metadata": {
        "id": "gIDyuxx66SQ6"
      },
      "source": [
        "Определим наиболее важные с точки зрения предсказания параметры:"
      ]
    },
    {
      "cell_type": "code",
      "metadata": {
        "id": "ewGAY-36ki-v"
      },
      "source": [
        "from matplotlib import pyplot\n",
        "from xgboost import plot_importance"
      ],
      "execution_count": null,
      "outputs": []
    },
    {
      "cell_type": "code",
      "metadata": {
        "colab": {
          "base_uri": "https://localhost:8080/",
          "height": 313
        },
        "id": "rQRACsmRt4N9",
        "outputId": "4984c5d5-49c0-4a7a-819f-c835cc10e190"
      },
      "source": [
        "\n",
        "plot_importance(model)"
      ],
      "execution_count": null,
      "outputs": [
        {
          "output_type": "execute_result",
          "data": {
            "text/plain": [
              "<matplotlib.axes._subplots.AxesSubplot at 0x7f26249e26d0>"
            ]
          },
          "metadata": {},
          "execution_count": 12
        },
        {
          "output_type": "display_data",
          "data": {
            "image/png": "[encoded data removed]",
            "text/plain": [
              "<Figure size 432x288 with 1 Axes>"
            ]
          },
          "metadata": {
            "needs_background": "light"
          }
        }
      ]
    },
    {
      "cell_type": "markdown",
      "metadata": {
        "id": "TL1zjsKz7SEf"
      },
      "source": [
        "Наиболее важными данными являются температура в третьей камере и высота слоя сырья."
      ]
    }
  ]
}