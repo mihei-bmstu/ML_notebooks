{
 "cells": [
  {
   "cell_type": "code",
   "execution_count": 26,
   "id": "9814a0fe",
   "metadata": {},
   "outputs": [
    {
     "name": "stdout",
     "output_type": "stream",
     "text": [
      "Requirement already satisfied: tensorflow in f:\\usr\\sr00230\\anaconda3\\lib\\site-packages (2.7.0)\n",
      "Requirement already satisfied: tensorflow-estimator<2.8,~=2.7.0rc0 in f:\\usr\\sr00230\\anaconda3\\lib\\site-packages (from tensorflow) (2.7.0)\n",
      "Requirement already satisfied: astunparse>=1.6.0 in f:\\usr\\sr00230\\anaconda3\\lib\\site-packages (from tensorflow) (1.6.3)\n",
      "Requirement already satisfied: termcolor>=1.1.0 in f:\\usr\\sr00230\\anaconda3\\lib\\site-packages (from tensorflow) (1.1.0)\n",
      "Requirement already satisfied: keras-preprocessing>=1.1.1 in f:\\usr\\sr00230\\anaconda3\\lib\\site-packages (from tensorflow) (1.1.2)\n",
      "Requirement already satisfied: protobuf>=3.9.2 in f:\\usr\\sr00230\\anaconda3\\lib\\site-packages (from tensorflow) (3.19.1)\n",
      "Requirement already satisfied: keras<2.8,>=2.7.0rc0 in f:\\usr\\sr00230\\anaconda3\\lib\\site-packages (from tensorflow) (2.7.0)\n",
      "Requirement already satisfied: gast<0.5.0,>=0.2.1 in f:\\usr\\sr00230\\anaconda3\\lib\\site-packages (from tensorflow) (0.4.0)\n",
      "Requirement already satisfied: grpcio<2.0,>=1.24.3 in f:\\usr\\sr00230\\anaconda3\\lib\\site-packages (from tensorflow) (1.41.1)\n",
      "Requirement already satisfied: wheel<1.0,>=0.32.0 in f:\\usr\\sr00230\\anaconda3\\lib\\site-packages (from tensorflow) (0.36.2)\n",
      "Requirement already satisfied: flatbuffers<3.0,>=1.12 in f:\\usr\\sr00230\\anaconda3\\lib\\site-packages (from tensorflow) (2.0)\n",
      "Requirement already satisfied: six>=1.12.0 in f:\\usr\\sr00230\\anaconda3\\lib\\site-packages (from tensorflow) (1.15.0)\n",
      "Requirement already satisfied: tensorflow-io-gcs-filesystem>=0.21.0 in f:\\usr\\sr00230\\anaconda3\\lib\\site-packages (from tensorflow) (0.22.0)\n",
      "Requirement already satisfied: typing-extensions>=3.6.6 in f:\\usr\\sr00230\\anaconda3\\lib\\site-packages (from tensorflow) (3.7.4.3)\n",
      "Requirement already satisfied: opt-einsum>=2.3.2 in f:\\usr\\sr00230\\anaconda3\\lib\\site-packages (from tensorflow) (3.3.0)\n",
      "Requirement already satisfied: wrapt>=1.11.0 in f:\\usr\\sr00230\\anaconda3\\lib\\site-packages (from tensorflow) (1.12.1)\n",
      "Requirement already satisfied: tensorboard~=2.6 in f:\\usr\\sr00230\\anaconda3\\lib\\site-packages (from tensorflow) (2.7.0)\n",
      "Requirement already satisfied: h5py>=2.9.0 in f:\\usr\\sr00230\\anaconda3\\lib\\site-packages (from tensorflow) (2.10.0)\n",
      "Requirement already satisfied: numpy>=1.14.5 in f:\\usr\\sr00230\\anaconda3\\lib\\site-packages (from tensorflow) (1.20.1)\n",
      "Requirement already satisfied: google-pasta>=0.1.1 in f:\\usr\\sr00230\\anaconda3\\lib\\site-packages (from tensorflow) (0.2.0)\n",
      "Requirement already satisfied: libclang>=9.0.1 in f:\\usr\\sr00230\\anaconda3\\lib\\site-packages (from tensorflow) (12.0.0)\n",
      "Requirement already satisfied: absl-py>=0.4.0 in f:\\usr\\sr00230\\anaconda3\\lib\\site-packages (from tensorflow) (1.0.0)\n",
      "Requirement already satisfied: markdown>=2.6.8 in f:\\usr\\sr00230\\anaconda3\\lib\\site-packages (from tensorboard~=2.6->tensorflow) (3.3.5)\n",
      "Requirement already satisfied: google-auth<3,>=1.6.3 in f:\\usr\\sr00230\\anaconda3\\lib\\site-packages (from tensorboard~=2.6->tensorflow) (2.3.3)\n",
      "Requirement already satisfied: requests<3,>=2.21.0 in f:\\usr\\sr00230\\anaconda3\\lib\\site-packages (from tensorboard~=2.6->tensorflow) (2.25.1)\n",
      "Requirement already satisfied: google-auth-oauthlib<0.5,>=0.4.1 in f:\\usr\\sr00230\\anaconda3\\lib\\site-packages (from tensorboard~=2.6->tensorflow) (0.4.6)\n",
      "Requirement already satisfied: tensorboard-data-server<0.7.0,>=0.6.0 in f:\\usr\\sr00230\\anaconda3\\lib\\site-packages (from tensorboard~=2.6->tensorflow) (0.6.1)\n",
      "Requirement already satisfied: setuptools>=41.0.0 in f:\\usr\\sr00230\\anaconda3\\lib\\site-packages (from tensorboard~=2.6->tensorflow) (52.0.0.post20210125)\n",
      "Requirement already satisfied: werkzeug>=0.11.15 in f:\\usr\\sr00230\\anaconda3\\lib\\site-packages (from tensorboard~=2.6->tensorflow) (1.0.1)\n",
      "Requirement already satisfied: tensorboard-plugin-wit>=1.6.0 in f:\\usr\\sr00230\\anaconda3\\lib\\site-packages (from tensorboard~=2.6->tensorflow) (1.8.0)\n",
      "Requirement already satisfied: rsa<5,>=3.1.4 in f:\\usr\\sr00230\\anaconda3\\lib\\site-packages (from google-auth<3,>=1.6.3->tensorboard~=2.6->tensorflow) (4.7.2)\n",
      "Requirement already satisfied: cachetools<5.0,>=2.0.0 in f:\\usr\\sr00230\\anaconda3\\lib\\site-packages (from google-auth<3,>=1.6.3->tensorboard~=2.6->tensorflow) (4.2.4)\n",
      "Requirement already satisfied: pyasn1-modules>=0.2.1 in f:\\usr\\sr00230\\anaconda3\\lib\\site-packages (from google-auth<3,>=1.6.3->tensorboard~=2.6->tensorflow) (0.2.8)\n",
      "Requirement already satisfied: requests-oauthlib>=0.7.0 in f:\\usr\\sr00230\\anaconda3\\lib\\site-packages (from google-auth-oauthlib<0.5,>=0.4.1->tensorboard~=2.6->tensorflow) (1.3.0)\n",
      "Requirement already satisfied: importlib-metadata>='4.4' in f:\\usr\\sr00230\\anaconda3\\lib\\site-packages (from markdown>=2.6.8->tensorboard~=2.6->tensorflow) (3.10.0)\n",
      "Requirement already satisfied: zipp>=0.5 in f:\\usr\\sr00230\\anaconda3\\lib\\site-packages (from importlib-metadata>='4.4'->markdown>=2.6.8->tensorboard~=2.6->tensorflow) (3.4.1)\n",
      "Requirement already satisfied: pyasn1<0.5.0,>=0.4.6 in f:\\usr\\sr00230\\anaconda3\\lib\\site-packages (from pyasn1-modules>=0.2.1->google-auth<3,>=1.6.3->tensorboard~=2.6->tensorflow) (0.4.8)\n",
      "Requirement already satisfied: certifi>=2017.4.17 in f:\\usr\\sr00230\\anaconda3\\lib\\site-packages (from requests<3,>=2.21.0->tensorboard~=2.6->tensorflow) (2020.12.5)\n",
      "Requirement already satisfied: urllib3<1.27,>=1.21.1 in f:\\usr\\sr00230\\anaconda3\\lib\\site-packages (from requests<3,>=2.21.0->tensorboard~=2.6->tensorflow) (1.26.4)\n",
      "Requirement already satisfied: idna<3,>=2.5 in f:\\usr\\sr00230\\anaconda3\\lib\\site-packages (from requests<3,>=2.21.0->tensorboard~=2.6->tensorflow) (2.10)\n",
      "Requirement already satisfied: chardet<5,>=3.0.2 in f:\\usr\\sr00230\\anaconda3\\lib\\site-packages (from requests<3,>=2.21.0->tensorboard~=2.6->tensorflow) (4.0.0)\n",
      "Requirement already satisfied: oauthlib>=3.0.0 in f:\\usr\\sr00230\\anaconda3\\lib\\site-packages (from requests-oauthlib>=0.7.0->google-auth-oauthlib<0.5,>=0.4.1->tensorboard~=2.6->tensorflow) (3.1.1)\n",
      "Note: you may need to restart the kernel to use updated packages.\n"
     ]
    }
   ],
   "source": [
    "pip install tensorflow"
   ]
  },
  {
   "cell_type": "code",
   "execution_count": 27,
   "id": "317a9be7",
   "metadata": {},
   "outputs": [],
   "source": [
    "import numpy as np\n",
    "import pandas as pd\n",
    "import random\n",
    "import os\n",
    "import tensorflow as tf\n",
    "from sklearn.model_selection import train_test_split\n",
    "from sklearn.model_selection import StratifiedKFold\n",
    "from sklearn.preprocessing import StandardScaler\n",
    "from sklearn.metrics import roc_curve, auc, roc_auc_score\n",
    "from tensorflow import keras\n",
    "from tensorflow.keras import layers\n",
    "from tensorflow.keras import callbacks"
   ]
  },
  {
   "cell_type": "code",
   "execution_count": 28,
   "id": "0b7bf8de",
   "metadata": {},
   "outputs": [],
   "source": [
    "SEED = 42\n",
    "EPOCHS = 1000\n",
    "BATCH_SIZE = 2048 \n",
    "ACTIVATION = 'swish'\n",
    "LEARNING_RATE = 0.001"
   ]
  },
  {
   "cell_type": "code",
   "execution_count": 29,
   "id": "af6ed831",
   "metadata": {},
   "outputs": [],
   "source": [
    "def seed_everything(seed=42):\n",
    "    tf.random.set_seed(seed)\n",
    "    random.seed(seed)\n",
    "    os.environ['PYTHONHASHSEED'] = str(seed)\n",
    "    np.random.seed(seed)\n",
    "    \n",
    "seed_everything(SEED)"
   ]
  },
  {
   "cell_type": "code",
   "execution_count": 30,
   "id": "9b8a8ac6",
   "metadata": {},
   "outputs": [],
   "source": [
    "data = pd.read_csv('D:\\CALCUL\\python\\coursera\\ML\\kaggle_nov21/train.csv')\n",
    "test_data = pd.read_csv('D:\\CALCUL\\python\\coursera\\ML\\kaggle_nov21/test.csv')"
   ]
  },
  {
   "cell_type": "code",
   "execution_count": 31,
   "id": "bddb01e3",
   "metadata": {},
   "outputs": [],
   "source": [
    "X = data.drop('target', axis = 1)\n",
    "y = data['target']\n",
    "del data"
   ]
  },
  {
   "cell_type": "code",
   "execution_count": 32,
   "id": "f0044bb7",
   "metadata": {},
   "outputs": [],
   "source": [
    "scaler = StandardScaler()\n",
    "\n",
    "X = pd.DataFrame(columns=X.columns, data=scaler.fit_transform(X))\n",
    "test_data = pd.DataFrame(columns=test_data.columns, data=scaler.transform(test_data))"
   ]
  },
  {
   "cell_type": "code",
   "execution_count": 33,
   "id": "e2d232ee",
   "metadata": {},
   "outputs": [],
   "source": [
    "def load_model(name:str):\n",
    "    \n",
    "    early_stopping = callbacks.EarlyStopping(\n",
    "        patience=20,\n",
    "        min_delta=0,\n",
    "        monitor='val_loss',\n",
    "        restore_best_weights=True,\n",
    "        verbose=0,\n",
    "        mode='min', \n",
    "        baseline=None,\n",
    "    )\n",
    "\n",
    "    plateau = callbacks.ReduceLROnPlateau(\n",
    "            monitor='val_loss', \n",
    "            factor=0.1, \n",
    "            patience=10, \n",
    "            verbose=0,\n",
    "            mode='min',\n",
    "            min_lr=0.00001\n",
    "    )\n",
    "\n",
    "    model = keras.Sequential([\n",
    "        layers.Dense(108, activation = ACTIVATION, input_shape = [X.shape[1]]),      \n",
    "        layers.Dense(64, activation =ACTIVATION), \n",
    "        layers.Dense(32, activation =ACTIVATION),\n",
    "        layers.Dense(1, activation='sigmoid'),\n",
    "    ])\n",
    "\n",
    "    model.compile(\n",
    "        optimizer= keras.optimizers.Adam(learning_rate=LEARNING_RATE),\n",
    "        loss='binary_crossentropy',\n",
    "        metrics=['AUC'],\n",
    "    )\n",
    "    \n",
    "    return model, early_stopping, plateau"
   ]
  },
  {
   "cell_type": "code",
   "execution_count": 34,
   "id": "edd011ec",
   "metadata": {},
   "outputs": [
    {
     "name": "stdout",
     "output_type": "stream",
     "text": [
      "Fold: 1 Score: 0.7554401209021917\n",
      "\n",
      "|||||||||||||||||||||||||||||||||||||||||||||||||||||||||||| \n",
      "\n",
      "Fold: 2 Score: 0.753571762916335\n",
      "\n",
      "|||||||||||||||||||||||||||||||||||||||||||||||||||||||||||| \n",
      "\n",
      "Fold: 3 Score: 0.75479064142273\n",
      "\n",
      "|||||||||||||||||||||||||||||||||||||||||||||||||||||||||||| \n",
      "\n",
      "Fold: 4 Score: 0.7542074033140961\n",
      "\n",
      "|||||||||||||||||||||||||||||||||||||||||||||||||||||||||||| \n",
      "\n",
      "Fold: 5 Score: 0.756880148753184\n",
      "\n",
      "|||||||||||||||||||||||||||||||||||||||||||||||||||||||||||| \n",
      "\n",
      "Overall Validation Score: 0.7549780154617073\n"
     ]
    }
   ],
   "source": [
    "skf = StratifiedKFold(n_splits=5, random_state=SEED, shuffle=True)\n",
    "preds = []\n",
    "scores = []\n",
    "for fold, (idx_train, idx_valid) in enumerate(skf.split(X, y)):\n",
    "    X_train, y_train = X.iloc[idx_train], y.iloc[idx_train]\n",
    "    X_valid, y_valid = X.iloc[idx_valid], y.iloc[idx_valid]\n",
    "    \n",
    "    model, early_stopping, plateau  = load_model('version1')\n",
    "    \n",
    "    history = model.fit(X_train, y_train,\n",
    "                validation_data = (X_valid, y_valid),\n",
    "                batch_size = BATCH_SIZE, \n",
    "                epochs = EPOCHS,\n",
    "                callbacks = [early_stopping, plateau],\n",
    "                shuffle = True,\n",
    "                verbose = 0\n",
    "              )\n",
    "    pred_valid = model.predict(X_valid)\n",
    "    fpr, tpr, _ = roc_curve(y_valid, pred_valid)\n",
    "    score = auc(fpr, tpr)\n",
    "    scores.append(score)\n",
    "    \n",
    "    print(f\"Fold: {fold + 1} Score: {score}\" \"\\n\")\n",
    "    print('||'*30, \"\\n\")\n",
    "    \n",
    "    test_preds = model.predict(test_data)\n",
    "    preds.append(test_preds)\n",
    "    \n",
    "print(f\"Overall Validation Score: {np.mean(scores)}\")"
   ]
  },
  {
   "cell_type": "code",
   "execution_count": 35,
   "id": "c022147e",
   "metadata": {},
   "outputs": [],
   "source": [
    "submission = pd.read_csv('D:\\CALCUL\\python\\coursera\\ML\\kaggle_nov21/sample_submission.csv')\n",
    "predictions = np.mean(preds, axis=0)\n",
    "\n",
    "submission['target'] = predictions\n",
    "submission.to_csv('./submission_Nov21_first_NN_keras.csv', index=False)"
   ]
  },
  {
   "cell_type": "code",
   "execution_count": null,
   "id": "e452d585",
   "metadata": {},
   "outputs": [],
   "source": []
  },
  {
   "cell_type": "code",
   "execution_count": null,
   "id": "f7f75675",
   "metadata": {},
   "outputs": [],
   "source": []
  },
  {
   "cell_type": "code",
   "execution_count": null,
   "id": "5ce9e7dd",
   "metadata": {},
   "outputs": [],
   "source": []
  },
  {
   "cell_type": "code",
   "execution_count": null,
   "id": "44ec5f65",
   "metadata": {},
   "outputs": [],
   "source": []
  }
 ],
 "metadata": {
  "kernelspec": {
   "display_name": "Python 3",
   "language": "python",
   "name": "python3"
  },
  "language_info": {
   "codemirror_mode": {
    "name": "ipython",
    "version": 3
   },
   "file_extension": ".py",
   "mimetype": "text/x-python",
   "name": "python",
   "nbconvert_exporter": "python",
   "pygments_lexer": "ipython3",
   "version": "3.8.8"
  }
 },
 "nbformat": 4,
 "nbformat_minor": 5
}
