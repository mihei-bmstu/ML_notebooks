{
  "nbformat": 4,
  "nbformat_minor": 0,
  "metadata": {
    "colab": {
      "name": "Severstal_test1.ipynb",
      "provenance": [],
      "collapsed_sections": [],
      "toc_visible": true
    },
    "kernelspec": {
      "name": "python3",
      "display_name": "Python 3"
    },
    "language_info": {
      "name": "python"
    }
  },
  "cells": [
    {
      "cell_type": "markdown",
      "metadata": {
        "id": "ry3wLFMUjELr"
      },
      "source": [
        "Импорт необходимых модулей"
      ]
    },
    {
      "cell_type": "code",
      "metadata": {
        "id": "aLezeKuvBzZh"
      },
      "source": [
        "import pandas as pd\n",
        "import seaborn as sns\n",
        "from scipy import stats"
      ],
      "execution_count": null,
      "outputs": []
    },
    {
      "cell_type": "markdown",
      "metadata": {
        "id": "7GJoR7QNjOdw"
      },
      "source": [
        "Загружаем csv файл. Переименовываем колонки для более простого доступа к ним."
      ]
    },
    {
      "cell_type": "code",
      "metadata": {
        "id": "E4RPFQqTCcdy"
      },
      "source": [
        "raw_data = pd.read_csv('/content/drive/MyDrive/Severstal_test/Статистика за 2018 год.csv', encoding='cp1251',)\n",
        "raw_data = raw_data.rename(columns={'Число бракованных листов':'failures',\n",
        "                         'Скорость прокатки': 'speed',\n",
        "                         'Марка стали': 'steel'})"
      ],
      "execution_count": null,
      "outputs": []
    },
    {
      "cell_type": "markdown",
      "metadata": {
        "id": "FRo5DSTu-y5Z"
      },
      "source": [
        "# 1. Проверяем гипотезу о влиянии скорости прокатки на количество бракованных листов в партии"
      ]
    },
    {
      "cell_type": "markdown",
      "metadata": {
        "id": "qJRAIMPx4ZTs"
      },
      "source": [
        "Считаем количество партий, в которых скорость прокатки больше (DF_fast) и меньше (DF_slow) чем 4 м/с"
      ]
    },
    {
      "cell_type": "code",
      "metadata": {
        "colab": {
          "base_uri": "https://localhost:8080/"
        },
        "id": "0dbJlODj6XlA",
        "outputId": "28ccc5bf-139d-4cf7-f077-a4f826429013"
      },
      "source": [
        "DF_fast = raw_data.query('speed > 4').reset_index(drop=True).drop(['steel','speed'], axis=1)\n",
        "DF_slow = raw_data.query('speed <= 4').reset_index(drop=True).drop(['steel','speed'], axis=1)\n",
        "print(DF_fast.count())\n",
        "print(DF_slow.count())"
      ],
      "execution_count": null,
      "outputs": [
        {
          "output_type": "stream",
          "name": "stdout",
          "text": [
            "failures    179\n",
            "dtype: int64\n",
            "failures    58\n",
            "dtype: int64\n"
          ]
        }
      ]
    },
    {
      "cell_type": "markdown",
      "metadata": {
        "id": "l4P73eQd9hzO"
      },
      "source": [
        "Аналогично считаем количество партий, в которых скорость прокатки больше заданной и количество бракованных листов больше 3"
      ]
    },
    {
      "cell_type": "code",
      "metadata": {
        "colab": {
          "base_uri": "https://localhost:8080/"
        },
        "id": "lfab2UF0CcXr",
        "outputId": "d76489ec-6680-4a27-fdca-b9cd0de17fbc"
      },
      "source": [
        "DF_fast_fail = raw_data.query('speed > 4 & failures > 3').reset_index(drop=True).drop(['steel','speed'], axis=1)\n",
        "DF_slow_fail = raw_data.query('speed <= 4 & failures > 3').reset_index(drop=True).drop(['steel','speed'], axis=1)\n",
        "print(DF_fast_fail.count())\n",
        "print(DF_slow_fail.count())"
      ],
      "execution_count": null,
      "outputs": [
        {
          "output_type": "stream",
          "name": "stdout",
          "text": [
            "failures    74\n",
            "dtype: int64\n",
            "failures    23\n",
            "dtype: int64\n"
          ]
        }
      ]
    },
    {
      "cell_type": "markdown",
      "metadata": {
        "id": "ayPxCdNo-TWm"
      },
      "source": [
        "Рассчитываем количество партий с повышенным браком для двух выборок:"
      ]
    },
    {
      "cell_type": "code",
      "metadata": {
        "colab": {
          "base_uri": "https://localhost:8080/"
        },
        "id": "-rDbFaQK5o4M",
        "outputId": "7698c44c-3bbf-473d-fed7-53d0e2f27eaa"
      },
      "source": [
        "print(DF_fast_fail.count() / DF_fast.count())\n",
        "print(DF_slow_fail.count() / DF_slow.count())"
      ],
      "execution_count": null,
      "outputs": [
        {
          "output_type": "stream",
          "name": "stdout",
          "text": [
            "failures    0.413408\n",
            "dtype: float64\n",
            "failures    0.396552\n",
            "dtype: float64\n"
          ]
        }
      ]
    },
    {
      "cell_type": "markdown",
      "metadata": {
        "id": "dwxhjvuWBQdE"
      },
      "source": [
        "Мы видим, что процент партий с повышенным браком (более 3 листов на партию) при увеличенной скорости прокатки 41.3%, а при обычной скорости прокатки 39.7%.\n",
        "На мой взгляд, мы не можем говорить о значительно повышенном проценте брака при скорости прокатки более 4 м/с на основании данной статистики. \n",
        "Далее проверим среднее число брака в тех партиях, где более 3 бракованных листов.\n",
        "\n",
        " "
      ]
    },
    {
      "cell_type": "code",
      "metadata": {
        "colab": {
          "base_uri": "https://localhost:8080/"
        },
        "id": "siYCVKepG7IE",
        "outputId": "99628113-433b-4fdf-dbb6-3538bc695b41"
      },
      "source": [
        "print(DF_fast_fail.mean())\n",
        "print(DF_slow_fail.mean())"
      ],
      "execution_count": null,
      "outputs": [
        {
          "output_type": "stream",
          "name": "stdout",
          "text": [
            "failures    5.054054\n",
            "dtype: float64\n",
            "failures    4.869565\n",
            "dtype: float64\n"
          ]
        }
      ]
    },
    {
      "cell_type": "markdown",
      "metadata": {
        "id": "lnRQHqRWHdDw"
      },
      "source": [
        "Для партий с повышенной скоростью прокатки мы видим среднее значение 5.05 бракованных листов на партию, а для скоростей менее 4 м/с это 4.87. То есть среднее число бракованных листов в партиях со скоростью прокатки более 4 м/с немного выше (при сравнении партий с числом брака более 3 листов). "
      ]
    },
    {
      "cell_type": "markdown",
      "metadata": {
        "id": "_AJwAwdACgMs"
      },
      "source": [
        "Также я хотел бы представить альтернативный вариант оценки фактора скорости на количество бракованных листов в партии. Для этого примем нулевую гипотезу о том, что скорость прокатки НЕ влияет на количество брака. Теперь оценим вероятность того, что две наши выборки (скорость прокатки > 4 м/с и скорость прокатки менее 4 м/с) действительно принадлежат одной генеральной совокупности при помощи t-критерия Стьюдента.\n",
        "Для начала построим распределение наших выборок, чтобы убедиться в том, что они похожи на нормальное распределение. "
      ]
    },
    {
      "cell_type": "code",
      "metadata": {
        "colab": {
          "base_uri": "https://localhost:8080/",
          "height": 283
        },
        "id": "QsorAEfgF3sA",
        "outputId": "b8f35714-5b42-422a-d41f-491e27be94c3"
      },
      "source": [
        "sns.histplot(DF_fast, binwidth=1)"
      ],
      "execution_count": null,
      "outputs": [
        {
          "output_type": "execute_result",
          "data": {
            "text/plain": [
              "<matplotlib.axes._subplots.AxesSubplot at 0x7fde7e2f3a90>"
            ]
          },
          "metadata": {},
          "execution_count": 16
        },
        {
          "output_type": "display_data",
          "data": {
            "image/png": "[encoded data removed]",
            "text/plain": [
              "<Figure size 432x288 with 1 Axes>"
            ]
          },
          "metadata": {
            "needs_background": "light"
          }
        }
      ]
    },
    {
      "cell_type": "code",
      "metadata": {
        "colab": {
          "base_uri": "https://localhost:8080/",
          "height": 283
        },
        "id": "BHk3uL71F3pZ",
        "outputId": "91666a0a-38a2-436e-96dd-1e164cd366ee"
      },
      "source": [
        "sns.histplot(DF_slow, binwidth=1)"
      ],
      "execution_count": null,
      "outputs": [
        {
          "output_type": "execute_result",
          "data": {
            "text/plain": [
              "<matplotlib.axes._subplots.AxesSubplot at 0x7fde6ebbec90>"
            ]
          },
          "metadata": {},
          "execution_count": 17
        },
        {
          "output_type": "display_data",
          "data": {
            "image/png": "[encoded data removed]",
            "text/plain": [
              "<Figure size 432x288 with 1 Axes>"
            ]
          },
          "metadata": {
            "needs_background": "light"
          }
        }
      ]
    },
    {
      "cell_type": "markdown",
      "metadata": {
        "id": "Gqn-lWyiCt8Y"
      },
      "source": [
        "Распределения не идеальны, но к ним вполне допустимо применять наши методы оценки. Рассчитаем t-критерий для наших выборок:"
      ]
    },
    {
      "cell_type": "code",
      "metadata": {
        "colab": {
          "base_uri": "https://localhost:8080/"
        },
        "id": "hzBlDNQXKZ2r",
        "outputId": "7c3c8c8d-920d-4f3e-e561-f4542f2fa016"
      },
      "source": [
        "stats.ttest_ind(DF_fast, DF_slow, equal_var=False)"
      ],
      "execution_count": null,
      "outputs": [
        {
          "output_type": "execute_result",
          "data": {
            "text/plain": [
              "Ttest_indResult(statistic=array([0.90434438]), pvalue=array([0.36809629]))"
            ]
          },
          "metadata": {},
          "execution_count": 18
        }
      ]
    },
    {
      "cell_type": "markdown",
      "metadata": {
        "id": "_4IG3HayDBVu"
      },
      "source": [
        "Мы видим p-value 36.8%, что не позволяет нам отбросить нашу нулевую гипотезу. Мы еще раз убедились, что по данной статистике мы не можем заявлять о том, что скорость прокатки значимым образом влияет на количество бракованных листов в партии. "
      ]
    },
    {
      "cell_type": "markdown",
      "metadata": {
        "id": "7oe-mIZEHV3M"
      },
      "source": [
        "# 2. Проверяем гипотезу о влиянии марки стали на количество бракованных листов в партии"
      ]
    },
    {
      "cell_type": "markdown",
      "metadata": {
        "id": "3GIO277kD7uQ"
      },
      "source": [
        "Аналогично первой части, делаем 4 выборки: полные выборки сталей А и В и их выборки с увеличенным числом брака в партии:"
      ]
    },
    {
      "cell_type": "code",
      "metadata": {
        "colab": {
          "base_uri": "https://localhost:8080/"
        },
        "id": "k4JeduNlKZzJ",
        "outputId": "5aac5a4c-29c5-4507-a2bf-d56ea6a65103"
      },
      "source": [
        "DF_markA = raw_data.query('steel == \"A\"').reset_index(drop=True).drop(['steel','speed'], axis=1)\n",
        "DF_markB = raw_data.query('steel == \"B\"').reset_index(drop=True).drop(['steel','speed'], axis=1)\n",
        "print(DF_markA.count())\n",
        "print(DF_markB.count())\n",
        "DF_markA_fail = raw_data.query('steel == \"A\" & failures > 3').reset_index(drop=True).drop(['steel','speed'], axis=1)\n",
        "DF_markB_fail = raw_data.query('steel == \"B\" & failures > 3').reset_index(drop=True).drop(['steel','speed'], axis=1)\n",
        "print(DF_markA_fail.count())\n",
        "print(DF_markB_fail.count())"
      ],
      "execution_count": null,
      "outputs": [
        {
          "output_type": "stream",
          "name": "stdout",
          "text": [
            "failures    139\n",
            "dtype: int64\n",
            "failures    98\n",
            "dtype: int64\n",
            "failures    53\n",
            "dtype: int64\n",
            "failures    44\n",
            "dtype: int64\n"
          ]
        }
      ]
    },
    {
      "cell_type": "markdown",
      "metadata": {
        "id": "PwX5hGKrIQo2"
      },
      "source": [
        "Рассчитываем долю партий с повышенным браком для двух марок стали:"
      ]
    },
    {
      "cell_type": "code",
      "metadata": {
        "colab": {
          "base_uri": "https://localhost:8080/"
        },
        "id": "Wltd4LZX6IeT",
        "outputId": "fe7883fe-4d18-4274-b4b4-40c29c220d6f"
      },
      "source": [
        "print(DF_markA_fail.count() / DF_markA.count())\n",
        "print(DF_markB_fail.count() / DF_markB.count())"
      ],
      "execution_count": null,
      "outputs": [
        {
          "output_type": "stream",
          "name": "stdout",
          "text": [
            "failures    0.381295\n",
            "dtype: float64\n",
            "failures    0.44898\n",
            "dtype: float64\n"
          ]
        }
      ]
    },
    {
      "cell_type": "markdown",
      "metadata": {
        "id": "RohTiZfCKJtV"
      },
      "source": [
        "Мы видим долю партий с количеством бракованных листов больше 3 для марок стали А и В соответсвенно 38.1% и 44.9%. Т.е. процент партий с повышенным браком даже выше для марки В. Теперь подсчитаем среднее количество бракованных листов в тех партиях, где более 3 бракованных листов. "
      ]
    },
    {
      "cell_type": "code",
      "metadata": {
        "colab": {
          "base_uri": "https://localhost:8080/"
        },
        "id": "TuuLv0w3JWPz",
        "outputId": "c2569ca3-b72b-4a50-f004-26db75064c61"
      },
      "source": [
        "print(DF_markA_fail.mean())\n",
        "print(DF_markB_fail.mean())"
      ],
      "execution_count": null,
      "outputs": [
        {
          "output_type": "stream",
          "name": "stdout",
          "text": [
            "failures    5.113208\n",
            "dtype: float64\n",
            "failures    4.886364\n",
            "dtype: float64\n"
          ]
        }
      ]
    },
    {
      "cell_type": "markdown",
      "metadata": {
        "id": "U_MNegB0JXzC"
      },
      "source": [
        "Для стали марки А мы видим среднее значение 5.11 листов, а для стали В 4.89 листа на партию. То есть среднее число бракованных листов все же выше для стали А, хотя частота возникновения такого явления ниже. "
      ]
    },
    {
      "cell_type": "markdown",
      "metadata": {
        "id": "hTUWQNQYJXoi"
      },
      "source": [
        "Аналогично первой части, проведем альтернативное исследование. Снова примем нулевую гипотезу о том, что марка стали не влияет на число бракованных листов, т.е. наши выборки принадлежат одной генеральной совокупности. Оценим форму распределения наших выборок:"
      ]
    },
    {
      "cell_type": "code",
      "metadata": {
        "colab": {
          "base_uri": "https://localhost:8080/",
          "height": 283
        },
        "id": "nfWMzJ0YKZsj",
        "outputId": "dc336285-3564-469c-8b26-dcd7abe79d72"
      },
      "source": [
        "sns.histplot(DF_markA, binwidth=1)"
      ],
      "execution_count": null,
      "outputs": [
        {
          "output_type": "execute_result",
          "data": {
            "text/plain": [
              "<matplotlib.axes._subplots.AxesSubplot at 0x7fde6e72db90>"
            ]
          },
          "metadata": {},
          "execution_count": 22
        },
        {
          "output_type": "display_data",
          "data": {
            "image/png": "[encoded data removed]",
            "text/plain": [
              "<Figure size 432x288 with 1 Axes>"
            ]
          },
          "metadata": {
            "needs_background": "light"
          }
        }
      ]
    },
    {
      "cell_type": "code",
      "metadata": {
        "colab": {
          "base_uri": "https://localhost:8080/",
          "height": 283
        },
        "id": "GKSyz9AyKZpr",
        "outputId": "3efc51eb-a1f0-484b-9a9c-7feaa790d32a"
      },
      "source": [
        "sns.histplot(DF_markB, binwidth=1)"
      ],
      "execution_count": null,
      "outputs": [
        {
          "output_type": "execute_result",
          "data": {
            "text/plain": [
              "<matplotlib.axes._subplots.AxesSubplot at 0x7fde6e6474d0>"
            ]
          },
          "metadata": {},
          "execution_count": 23
        },
        {
          "output_type": "display_data",
          "data": {
            "image/png": "[encoded data removed]",
            "text/plain": [
              "<Figure size 432x288 with 1 Axes>"
            ]
          },
          "metadata": {
            "needs_background": "light"
          }
        }
      ]
    },
    {
      "cell_type": "markdown",
      "metadata": {
        "id": "rP-AYagbM5Lu"
      },
      "source": [
        "Формы распределения допускают применения к ним t-критерия Стьюдента. Рассчитаем его:"
      ]
    },
    {
      "cell_type": "code",
      "metadata": {
        "colab": {
          "base_uri": "https://localhost:8080/"
        },
        "id": "Hnwr1pcuMJIT",
        "outputId": "8caef227-e1c4-4b69-822d-57982e2e0cd0"
      },
      "source": [
        "stats.ttest_ind(DF_markA, DF_markB, equal_var=False)"
      ],
      "execution_count": null,
      "outputs": [
        {
          "output_type": "execute_result",
          "data": {
            "text/plain": [
              "Ttest_indResult(statistic=array([-0.8009856]), pvalue=array([0.42399599]))"
            ]
          },
          "metadata": {},
          "execution_count": 24
        }
      ]
    },
    {
      "cell_type": "markdown",
      "metadata": {
        "id": "P7o-fnu_NDcM"
      },
      "source": [
        "Мы видим p-value более 42%, т.е. с высокой долей вероятности эти выборки взяты из одной генеральной совокупности, и мы снова не можем опровергнуть нулевую гипотезу. Таким образом, предоставленная статистика не позволяет нам заявлять о значимом влиянии марки стали на количество бракованных листов в партии. "
      ]
    },
    {
      "cell_type": "markdown",
      "metadata": {
        "id": "mrCmQ01mKqrU"
      },
      "source": [
        "# Заключение"
      ]
    },
    {
      "cell_type": "markdown",
      "metadata": {
        "id": "ma7lii47KpfL"
      },
      "source": [
        "Предосталенные для анализа данные не позволяют нам говорить о значимом влиянии скорости прокатки или марки стали на частоту возникновения повышенного брака (более 3 листов на партию)."
      ]
    }
  ]
}